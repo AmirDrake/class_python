{
 "cells": [
  {
   "cell_type": "code",
   "execution_count": 1,
   "id": "8713d5cc-3e3a-4a6f-90a6-fc45ea27c82d",
   "metadata": {},
   "outputs": [
    {
     "data": {
      "text/plain": [
       "2.0"
      ]
     },
     "execution_count": 1,
     "metadata": {},
     "output_type": "execute_result"
    }
   ],
   "source": [
    "4/2"
   ]
  },
  {
   "cell_type": "code",
   "execution_count": 2,
   "id": "0810167b-834e-425b-a055-eadbb48c0246",
   "metadata": {},
   "outputs": [
    {
     "name": "stdout",
     "output_type": "stream",
     "text": [
      "hello work\n"
     ]
    }
   ],
   "source": [
    "print(\"hello work\")"
   ]
  },
  {
   "cell_type": "code",
   "execution_count": 3,
   "id": "a737ac8a-2344-4bff-a359-f82fe8cae938",
   "metadata": {},
   "outputs": [
    {
     "data": {
      "text/plain": [
       "12"
      ]
     },
     "execution_count": 3,
     "metadata": {},
     "output_type": "execute_result"
    }
   ],
   "source": [
    "6+6"
   ]
  },
  {
   "cell_type": "code",
   "execution_count": 4,
   "id": "9ad5c123-e00c-47c7-b67b-514db3d54d8b",
   "metadata": {},
   "outputs": [
    {
     "data": {
      "text/plain": [
       "4.0"
      ]
     },
     "execution_count": 4,
     "metadata": {},
     "output_type": "execute_result"
    }
   ],
   "source": [
    "8/2"
   ]
  },
  {
   "cell_type": "code",
   "execution_count": 5,
   "id": "55c53572-ab33-4568-b9fa-74725e3b1b9c",
   "metadata": {},
   "outputs": [
    {
     "name": "stdout",
     "output_type": "stream",
     "text": [
      "mincraft\n"
     ]
    }
   ],
   "source": [
    "print (\"mincraft\")"
   ]
  },
  {
   "cell_type": "code",
   "execution_count": 6,
   "id": "c6f64cf7-8850-4115-940c-8398d417c3d6",
   "metadata": {},
   "outputs": [
    {
     "data": {
      "text/plain": [
       "-2"
      ]
     },
     "execution_count": 6,
     "metadata": {},
     "output_type": "execute_result"
    }
   ],
   "source": [
    "2-4"
   ]
  },
  {
   "cell_type": "code",
   "execution_count": 7,
   "id": "1ab5470b-60a2-4450-8098-9199bcba80ae",
   "metadata": {},
   "outputs": [
    {
     "data": {
      "text/plain": [
       "16"
      ]
     },
     "execution_count": 7,
     "metadata": {},
     "output_type": "execute_result"
    }
   ],
   "source": [
    "4*4"
   ]
  },
  {
   "cell_type": "code",
   "execution_count": 8,
   "id": "4bfe5387-bb14-41fd-b62d-36e53d2a6e2e",
   "metadata": {},
   "outputs": [
    {
     "data": {
      "text/plain": [
       "4226825116568318803807901427451381823829296"
      ]
     },
     "execution_count": 8,
     "metadata": {},
     "output_type": "execute_result"
    }
   ],
   "source": [
    "123456789098765432*34237283728372837283728378"
   ]
  },
  {
   "cell_type": "code",
   "execution_count": 9,
   "id": "a63114b7-27df-41de-80c7-453b537241a8",
   "metadata": {},
   "outputs": [
    {
     "data": {
      "text/plain": [
       "int"
      ]
     },
     "execution_count": 9,
     "metadata": {},
     "output_type": "execute_result"
    }
   ],
   "source": [
    "a = 12 \n",
    "type (a)"
   ]
  },
  {
   "cell_type": "code",
   "execution_count": 10,
   "id": "d12fb3b4-31f8-45c1-9bdf-40c5ae564d02",
   "metadata": {},
   "outputs": [
    {
     "name": "stdout",
     "output_type": "stream",
     "text": [
      "12\n"
     ]
    }
   ],
   "source": [
    "a = 12 \n",
    "print (a)"
   ]
  },
  {
   "cell_type": "code",
   "execution_count": 11,
   "id": "dacb6eae-6e49-4344-bc9f-aa2f7508d0eb",
   "metadata": {},
   "outputs": [
    {
     "name": "stdout",
     "output_type": "stream",
     "text": [
      "7\n"
     ]
    }
   ],
   "source": [
    "a=7\n",
    "print (a)\n"
   ]
  },
  {
   "cell_type": "code",
   "execution_count": 12,
   "id": "167e89d1-80ba-4ca9-a2b8-7fafc2ec1fd3",
   "metadata": {},
   "outputs": [
    {
     "ename": "NameError",
     "evalue": "name 'b' is not defined",
     "output_type": "error",
     "traceback": [
      "\u001b[1;31m---------------------------------------------------------------------------\u001b[0m",
      "\u001b[1;31mNameError\u001b[0m                                 Traceback (most recent call last)",
      "Cell \u001b[1;32mIn[12], line 2\u001b[0m\n\u001b[0;32m      1\u001b[0m a \u001b[38;5;241m=\u001b[39m \u001b[38;5;241m6\u001b[39m \n\u001b[1;32m----> 2\u001b[0m a\u001b[38;5;241m=\u001b[39m\u001b[43mb\u001b[49m \n\u001b[0;32m      3\u001b[0m prnt (ab)\n",
      "\u001b[1;31mNameError\u001b[0m: name 'b' is not defined"
     ]
    }
   ],
   "source": [
    "a = 6 \n",
    "a=b \n",
    "prnt (ab)"
   ]
  },
  {
   "cell_type": "code",
   "execution_count": 13,
   "id": "04841938-47c8-4031-b2f5-70c4ddd0a0d1",
   "metadata": {},
   "outputs": [
    {
     "ename": "NameError",
     "evalue": "name 'b' is not defined",
     "output_type": "error",
     "traceback": [
      "\u001b[1;31m---------------------------------------------------------------------------\u001b[0m",
      "\u001b[1;31mNameError\u001b[0m                                 Traceback (most recent call last)",
      "Cell \u001b[1;32mIn[13], line 2\u001b[0m\n\u001b[0;32m      1\u001b[0m a \u001b[38;5;241m=\u001b[39m \u001b[38;5;241m6\u001b[39m \n\u001b[1;32m----> 2\u001b[0m a \u001b[38;5;241m=\u001b[39m \u001b[43mb\u001b[49m\n\u001b[0;32m      3\u001b[0m \u001b[38;5;28mprint\u001b[39m (a\u001b[38;5;241m*\u001b[39mb)\n",
      "\u001b[1;31mNameError\u001b[0m: name 'b' is not defined"
     ]
    }
   ],
   "source": [
    "a = 6 \n",
    "a = b\n",
    "print (a*b)"
   ]
  },
  {
   "cell_type": "code",
   "execution_count": 14,
   "id": "1ad92dc0-f0a6-4691-8253-6ed73d441e5b",
   "metadata": {},
   "outputs": [
    {
     "name": "stdout",
     "output_type": "stream",
     "text": [
      "36\n"
     ]
    }
   ],
   "source": [
    "a = 6\n",
    "b = a\n",
    "print (a*b)\n"
   ]
  },
  {
   "cell_type": "code",
   "execution_count": 15,
   "id": "dddb46ce-6fd2-4b8a-8b4f-7201b5f16035",
   "metadata": {},
   "outputs": [
    {
     "name": "stdout",
     "output_type": "stream",
     "text": [
      "1089\n"
     ]
    }
   ],
   "source": [
    "a = 33\n",
    "b = a\n",
    "print (a*b)"
   ]
  },
  {
   "cell_type": "code",
   "execution_count": 16,
   "id": "e292e0da-d1e4-4c97-ae2e-42368b0f1520",
   "metadata": {},
   "outputs": [
    {
     "name": "stdout",
     "output_type": "stream",
     "text": [
      "5\n"
     ]
    }
   ],
   "source": [
    "print (2+3)"
   ]
  },
  {
   "cell_type": "code",
   "execution_count": 17,
   "id": "31b46f31-839a-42de-b75b-6f13f8e8b96b",
   "metadata": {},
   "outputs": [
    {
     "name": "stdout",
     "output_type": "stream",
     "text": [
      "-1\n"
     ]
    }
   ],
   "source": [
    "print (3 - 4)"
   ]
  },
  {
   "cell_type": "code",
   "execution_count": 18,
   "id": "1dee6d9c-7493-4e41-ae04-a39efd6cc164",
   "metadata": {},
   "outputs": [
    {
     "name": "stdout",
     "output_type": "stream",
     "text": [
      "10\n"
     ]
    }
   ],
   "source": [
    "print (2*5)"
   ]
  },
  {
   "cell_type": "code",
   "execution_count": 19,
   "id": "9304ecfb-5668-4fce-a963-57751f359d91",
   "metadata": {},
   "outputs": [
    {
     "name": "stdout",
     "output_type": "stream",
     "text": [
      "4.0\n"
     ]
    }
   ],
   "source": [
    "print (8/2)"
   ]
  },
  {
   "cell_type": "code",
   "execution_count": 20,
   "id": "84e4edc5-ab68-4f62-825f-0765013453f4",
   "metadata": {},
   "outputs": [
    {
     "name": "stdout",
     "output_type": "stream",
     "text": [
      "2.3333333333333335\n"
     ]
    }
   ],
   "source": [
    "print (7/3)"
   ]
  },
  {
   "cell_type": "code",
   "execution_count": 21,
   "id": "1e39292b-e95b-46d0-95d1-17d002652000",
   "metadata": {},
   "outputs": [
    {
     "name": "stdout",
     "output_type": "stream",
     "text": [
      "2\n"
     ]
    }
   ],
   "source": [
    "print (7//3)"
   ]
  },
  {
   "cell_type": "code",
   "execution_count": 22,
   "id": "d1dd7618-5d4a-4ef3-a487-f17e1d77535e",
   "metadata": {},
   "outputs": [
    {
     "name": "stdout",
     "output_type": "stream",
     "text": [
      "125\n"
     ]
    }
   ],
   "source": [
    "print (5**3)"
   ]
  },
  {
   "cell_type": "code",
   "execution_count": 23,
   "id": "baf66e89-f0f3-4fa8-91b2-0aceecaeb02d",
   "metadata": {},
   "outputs": [
    {
     "name": "stdout",
     "output_type": "stream",
     "text": [
      "3\n"
     ]
    }
   ],
   "source": [
    "print (15%4)"
   ]
  },
  {
   "cell_type": "code",
   "execution_count": 24,
   "id": "4c2f92c5-fb08-479e-9038-b9e7a0c4b7de",
   "metadata": {},
   "outputs": [
    {
     "ename": "NameError",
     "evalue": "name 'true' is not defined",
     "output_type": "error",
     "traceback": [
      "\u001b[1;31m---------------------------------------------------------------------------\u001b[0m",
      "\u001b[1;31mNameError\u001b[0m                                 Traceback (most recent call last)",
      "Cell \u001b[1;32mIn[24], line 1\u001b[0m\n\u001b[1;32m----> 1\u001b[0m \u001b[38;5;28mprint\u001b[39m (\u001b[43mtrue\u001b[49m \u001b[38;5;129;01mand\u001b[39;00m true)\n",
      "\u001b[1;31mNameError\u001b[0m: name 'true' is not defined"
     ]
    }
   ],
   "source": [
    "print (true and true)"
   ]
  },
  {
   "cell_type": "raw",
   "id": "12d46fd2-2205-463d-8534-b27b7e812ce3",
   "metadata": {},
   "source": [
    "print (True and True)"
   ]
  },
  {
   "cell_type": "code",
   "execution_count": null,
   "id": "d33ed729-1db6-4a4f-ba79-6019c706b181",
   "metadata": {},
   "outputs": [],
   "source": []
  },
  {
   "cell_type": "code",
   "execution_count": null,
   "id": "b4e7d387-0a42-48df-9341-0d81c48b889a",
   "metadata": {},
   "outputs": [],
   "source": []
  },
  {
   "cell_type": "code",
   "execution_count": null,
   "id": "5b258adf-8a0e-40fc-b047-fd8f8895aa44",
   "metadata": {},
   "outputs": [],
   "source": [
    "    "
   ]
  }
 ],
 "metadata": {
  "kernelspec": {
   "display_name": "Python 3 (ipykernel)",
   "language": "python",
   "name": "python3"
  },
  "language_info": {
   "codemirror_mode": {
    "name": "ipython",
    "version": 3
   },
   "file_extension": ".py",
   "mimetype": "text/x-python",
   "name": "python",
   "nbconvert_exporter": "python",
   "pygments_lexer": "ipython3",
   "version": "3.12.4"
  }
 },
 "nbformat": 4,
 "nbformat_minor": 5
}
